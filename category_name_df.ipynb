{
  "nbformat": 4,
  "nbformat_minor": 0,
  "metadata": {
    "colab": {
      "provenance": []
    },
    "kernelspec": {
      "name": "python3",
      "display_name": "Python 3"
    },
    "language_info": {
      "name": "python"
    }
  },
  "cells": [
    {
      "cell_type": "code",
      "source": [
        "!pip install pyspark"
      ],
      "metadata": {
        "id": "QKdCyRnDZeLx"
      },
      "execution_count": null,
      "outputs": []
    },
    {
      "cell_type": "code",
      "execution_count": 33,
      "metadata": {
        "colab": {
          "base_uri": "https://localhost:8080/"
        },
        "id": "PfmK66DRZZhq",
        "outputId": "5e2e4459-f7ca-4bea-a074-71e2228a086c"
      },
      "outputs": [
        {
          "output_type": "stream",
          "name": "stdout",
          "text": [
            "+--------+--------------------+\n",
            "| Product|          Categories|\n",
            "+--------+--------------------+\n",
            "|ProductA|[CategoryA, Categ...|\n",
            "|ProductB|         [CategoryC]|\n",
            "|ProductC|                NULL|\n",
            "|ProductD|                NULL|\n",
            "|ProductC|                NULL|\n",
            "|ProductD|                NULL|\n",
            "+--------+--------------------+\n",
            "\n"
          ]
        }
      ],
      "source": [
        "\n",
        "from pyspark.sql import SparkSession\n",
        "from pyspark.sql.functions import explode, lit\n",
        "\n",
        "spark = SparkSession.builder.appName(\"ProductCategory\").getOrCreate()\n",
        "\n",
        "# Пример исходного DataFrame с продуктами и категориями\n",
        "data = [(\"ProductA\", [\"CategoryA\", \"CategoryB\"]),\n",
        "        (\"ProductB\", [\"CategoryC\"]),\n",
        "        (\"ProductC\", None),\n",
        "        (\"ProductD\", None)\n",
        "        ]\n",
        "\n",
        "schema = [\"Product\", \"Categories\"]\n",
        "\n",
        "df = spark.createDataFrame(data, schema)\n",
        "\n",
        "products_without_category = df.filter(df[\"Categories\"].isNull())\n",
        "\n",
        "\n",
        "final_df = df.union(products_without_category)\n",
        "\n",
        "exploded_df = final_df.select(\"Product\", explode(\"Categories\").alias(\"Category\")).filter(df[\"Categories\"].isNull())\n",
        "\n",
        "final_df.show()\n"
      ]
    }
  ]
}